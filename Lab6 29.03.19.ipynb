{
 "cells": [
  {
   "cell_type": "code",
   "execution_count": 1,
   "metadata": {},
   "outputs": [
    {
     "name": "stdout",
     "output_type": "stream",
     "text": [
      "1 1\n",
      "2 4\n",
      "3 9\n",
      "4 16\n",
      "5 25\n",
      "6 36\n",
      "7 49\n",
      "8 64\n",
      "9 81\n",
      "10 100\n",
      "11 121\n",
      "12 144\n",
      "13 169\n",
      "14 196\n",
      "15 225\n",
      "16 256\n",
      "17 289\n",
      "18 324\n",
      "19 361\n",
      "20 400\n",
      "End\n"
     ]
    }
   ],
   "source": [
    "def main():\n",
    "    num_dict = dicGen()\n",
    "    for k in num_dict:\n",
    "        print(k, num_dict[k])\n",
    "    print('End')\n",
    "\n",
    "def dicGen():\n",
    "    dict1  = {}\n",
    "    \n",
    "    for x in range(1, 21):\n",
    "        dict1[x] = x**2\n",
    "\n",
    "    return dict1\n",
    "\n",
    "main()"
   ]
  },
  {
   "cell_type": "code",
   "execution_count": null,
   "metadata": {},
   "outputs": [
    {
     "name": "stdout",
     "output_type": "stream",
     "text": [
      "\n",
      "Friends and their birthdays\n",
      "---------------------------\n",
      "1. Look up a birthday\n",
      "2. Add a new birthday\n",
      "3. Change a birthday\n",
      "4. Delete a birthday\n",
      "5. Quit the program\n"
     ]
    }
   ],
   "source": [
    "LOOK_UP = 1\n",
    "ADD = 2\n",
    "CHANGE = 3\n",
    "DELETE = 4\n",
    "QUIT = 5\n",
    "\n",
    "def main():\n",
    "    birthdays = {}\n",
    "    choice = 0\n",
    "\n",
    "    while choice != QUIT:\n",
    "        choice = get_choice()\n",
    "\n",
    "        if choice == LOOK_UP:\n",
    "            look_up(birthdays)\n",
    "        elif choice == ADD:\n",
    "            add(birthdays)\n",
    "        elif choice == DELETE:\n",
    "            delete(birthdays)\n",
    "        elif choice == CHANGE:\n",
    "            change(birthdays)\n",
    "\n",
    "def get_choice():\n",
    "    print()\n",
    "    print('Friends and their birthdays')\n",
    "    print('---------------------------')\n",
    "    print('1. Look up a birthday')\n",
    "    print('2. Add a new birthday')\n",
    "    print('3. Change a birthday')\n",
    "    print('4. Delete a birthday')\n",
    "    print('5. Quit the program')\n",
    "\n",
    "    choice = int(input('Enter a choice: '))\n",
    "    return choice\n",
    "\n",
    "def look_up(birthdays):\n",
    "    name = input('Enter a name to look for the birthday: ')\n",
    "    print(birthdays.get(name, 'Not found!'))\n",
    "\n",
    "def add(birthdays):\n",
    "    name = input('Enter a name to add the birthday: ')\n",
    "    if name not in birthdays:\n",
    "        birthdays[name] = input('Enter the birthday: ')\n",
    "    else:\n",
    "        print('The entry already exists!')\n",
    "\n",
    "def change(birthdays):\n",
    "    name = input('Enter a name to change the birthday: ')\n",
    "    birthdays[name] = input('Enter the birthday: ')\n",
    "\n",
    "def delete(birthdays):\n",
    "    name = input('Enter a name to delete the birthday: ')\n",
    "\n",
    "    if name in birthdays:\n",
    "        del birthdays[name]\n",
    "    else:\n",
    "        print('This name is not found!')\n",
    "\n",
    "main()\n"
   ]
  },
  {
   "cell_type": "code",
   "execution_count": null,
   "metadata": {},
   "outputs": [],
   "source": [
    "def main():\n",
    "    infile = open('data2.txt', 'r')\n",
    "    text = infile.read()\n",
    "\n",
    "    words = text.split()\n",
    "\n",
    "    unique_words = set(words)\n",
    "\n",
    "    print('The following is a list to the unique words')\n",
    "    print('-------------------------------------------')\n",
    "\n",
    "    for x in unique_words:\n",
    "        print(x)\n",
    "\n",
    "    infile.close()\n",
    "\n",
    "main()"
   ]
  },
  {
   "cell_type": "code",
   "execution_count": null,
   "metadata": {},
   "outputs": [],
   "source": [
    "def main():\n",
    "    counter = {}\n",
    "\n",
    "    infile = open('data2.txt', 'r')\n",
    "\n",
    "    text  = infile.read()\n",
    "    words = text.split()\n",
    "\n",
    "    unique_words = set(words)\n",
    "\n",
    "    for word in unique_words:\n",
    "        counter[word] = 0\n",
    "\n",
    "    for word in words:\n",
    "        counter[word] += 1\n",
    "\n",
    "    for k in counter:\n",
    "        print(k, counter[k])\n",
    "\n",
    "main()"
   ]
  },
  {
   "cell_type": "code",
   "execution_count": null,
   "metadata": {},
   "outputs": [],
   "source": []
  }
 ],
 "metadata": {
  "kernelspec": {
   "display_name": "Python 3",
   "language": "python",
   "name": "python3"
  },
  "language_info": {
   "codemirror_mode": {
    "name": "ipython",
    "version": 3
   },
   "file_extension": ".py",
   "mimetype": "text/x-python",
   "name": "python",
   "nbconvert_exporter": "python",
   "pygments_lexer": "ipython3",
   "version": "3.7.1"
  }
 },
 "nbformat": 4,
 "nbformat_minor": 2
}
