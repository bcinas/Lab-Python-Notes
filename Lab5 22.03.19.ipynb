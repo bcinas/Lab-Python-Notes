{
 "cells": [
  {
   "cell_type": "code",
   "execution_count": 4,
   "metadata": {},
   "outputs": [
    {
     "name": "stdout",
     "output_type": "stream",
     "text": [
      "Enter an integer number between 1 and 10: 10\n",
      "[0, 1, 2, 3, 4, 5, 6, 7, 8, 9, 10]\n",
      "[0, 1, 4, 9, 16, 25, 36, 49, 64, 81, 100]\n"
     ]
    }
   ],
   "source": [
    "def main():\n",
    "    num = 0\n",
    "    while num > 10 or num < 1:\n",
    "        num = int(input(\"Enter an integer number between 1 and 10: \"))\n",
    "    \n",
    "    num_list = list(range (0, num+1))\n",
    "    \n",
    "    print(num_list)\n",
    "    \n",
    "    print(list_squares(num_list))\n",
    "\n",
    "def list_squares(list1):\n",
    "    index = 0\n",
    "    while index < len(list1):\n",
    "        list1[index] = list1[index]**2\n",
    "        index += 1\n",
    "            \n",
    "    return list1\n",
    "\n",
    "main()"
   ]
  },
  {
   "cell_type": "code",
   "execution_count": 6,
   "metadata": {},
   "outputs": [
    {
     "name": "stdout",
     "output_type": "stream",
     "text": [
      "Enter an integer number: 5\n",
      "The summation of the numbers greater than num 5 is 442\n"
     ]
    }
   ],
   "source": [
    "def main():\n",
    "    nums = [10, 25, 300, 17, 2, 90]\n",
    "    num  = int(input(\"Enter an integer number: \"))\n",
    "    \n",
    "    print('The summation of the numbers greater than num', num, 'is', nums_sum(num,nums))\n",
    "    \n",
    "def nums_sum(n, nums):\n",
    "    sum = 0\n",
    "    \n",
    "    for x in nums:\n",
    "        if x>n:\n",
    "            sum += x\n",
    "    return sum\n",
    "\n",
    "main()"
   ]
  },
  {
   "cell_type": "code",
   "execution_count": 8,
   "metadata": {},
   "outputs": [
    {
     "name": "stdout",
     "output_type": "stream",
     "text": [
      "Enter a test seperated by commas: ok, yay,\n",
      "['ok', ' yay', '']\n"
     ]
    }
   ],
   "source": [
    "def main ():\n",
    "    text = input('Enter a test seperated by commas: ')\n",
    "    print(text_update(text))\n",
    "    \n",
    "def text_update(string):\n",
    "    text = string.split(',')\n",
    "    \n",
    "    return text\n",
    "\n",
    "main()"
   ]
  },
  {
   "cell_type": "code",
   "execution_count": 10,
   "metadata": {},
   "outputs": [
    {
     "ename": "FileNotFoundError",
     "evalue": "[Errno 2] No such file or directory: 'word.txt'",
     "output_type": "error",
     "traceback": [
      "\u001b[1;31m---------------------------------------------------------------------------\u001b[0m",
      "\u001b[1;31mFileNotFoundError\u001b[0m                         Traceback (most recent call last)",
      "\u001b[1;32m<ipython-input-10-d21c2b59d8a6>\u001b[0m in \u001b[0;36m<module>\u001b[1;34m\u001b[0m\n\u001b[0;32m     19\u001b[0m     \u001b[1;32mreturn\u001b[0m \u001b[0mtext\u001b[0m\u001b[1;33m\u001b[0m\u001b[1;33m\u001b[0m\u001b[0m\n\u001b[0;32m     20\u001b[0m \u001b[1;33m\u001b[0m\u001b[0m\n\u001b[1;32m---> 21\u001b[1;33m \u001b[0mmain\u001b[0m\u001b[1;33m(\u001b[0m\u001b[1;33m)\u001b[0m\u001b[1;33m\u001b[0m\u001b[1;33m\u001b[0m\u001b[0m\n\u001b[0m",
      "\u001b[1;32m<ipython-input-10-d21c2b59d8a6>\u001b[0m in \u001b[0;36mmain\u001b[1;34m()\u001b[0m\n\u001b[0;32m      1\u001b[0m \u001b[1;32mdef\u001b[0m \u001b[0mmain\u001b[0m\u001b[1;33m(\u001b[0m\u001b[1;33m)\u001b[0m\u001b[1;33m:\u001b[0m\u001b[1;33m\u001b[0m\u001b[1;33m\u001b[0m\u001b[0m\n\u001b[0;32m      2\u001b[0m     \u001b[0mtext\u001b[0m \u001b[1;33m=\u001b[0m \u001b[1;33m[\u001b[0m\u001b[1;33m]\u001b[0m\u001b[1;33m\u001b[0m\u001b[1;33m\u001b[0m\u001b[0m\n\u001b[1;32m----> 3\u001b[1;33m     \u001b[0minfile\u001b[0m \u001b[1;33m=\u001b[0m \u001b[0mopen\u001b[0m\u001b[1;33m(\u001b[0m\u001b[1;34m'word.txt'\u001b[0m\u001b[1;33m,\u001b[0m \u001b[1;34m'r'\u001b[0m\u001b[1;33m)\u001b[0m\u001b[1;33m\u001b[0m\u001b[1;33m\u001b[0m\u001b[0m\n\u001b[0m\u001b[0;32m      4\u001b[0m \u001b[1;33m\u001b[0m\u001b[0m\n\u001b[0;32m      5\u001b[0m     \u001b[0mtext\u001b[0m \u001b[1;33m=\u001b[0m \u001b[0minfile\u001b[0m\u001b[1;33m.\u001b[0m\u001b[0mreadlines\u001b[0m\u001b[1;33m(\u001b[0m\u001b[1;33m)\u001b[0m\u001b[1;33m\u001b[0m\u001b[1;33m\u001b[0m\u001b[0m\n",
      "\u001b[1;31mFileNotFoundError\u001b[0m: [Errno 2] No such file or directory: 'word.txt'"
     ]
    }
   ],
   "source": [
    "def main():\n",
    "    text = []\n",
    "    infile = open('word.txt', 'r')\n",
    "    \n",
    "    text = infile.readlines()\n",
    "    \n",
    "    for x in text:\n",
    "        if x == \"Python\" or \"python\":\n",
    "            total += 1\n",
    "            \n",
    "    print('Python is written', total, 'times in the file.')\n",
    "    \n",
    "def conv_word(text):\n",
    "    index = 0\n",
    "    while index < len(text):\n",
    "        if text[index] == 'python' or text[index] == 'Python':\n",
    "            text[index] = 'PYTHON'\n",
    "            \n",
    "    return text\n",
    "    \n",
    "main()"
   ]
  },
  {
   "cell_type": "code",
   "execution_count": 1,
   "metadata": {},
   "outputs": [
    {
     "name": "stdout",
     "output_type": "stream",
     "text": [
      "Python is written 0 times in the file.\n",
      "[]\n"
     ]
    }
   ],
   "source": [
    "def main():\n",
    "    text = []\n",
    "    total = 0\n",
    "    infile = open('words.txt', 'r')\n",
    "\n",
    "    text = infile.readlines()\n",
    "\n",
    "    infile.close()\n",
    "\n",
    "    for x in text:\n",
    "        if x.rstrip() == 'Python' or x.rstrip() == 'python':\n",
    "            total += 1\n",
    "\n",
    "\n",
    "    print('Python is written', total, 'times in the file.')\n",
    "    conv_word(text)\n",
    "\n",
    "\n",
    "def conv_word(words):\n",
    "    index = 0\n",
    "    \n",
    "    while index < len(words):\n",
    "        if words[index].rstrip() == 'python' or words[index].rstrip() == 'Python':\n",
    "            words[index] = words[index].upper()\n",
    "\n",
    "        index += 1\n",
    "\n",
    "    print(words)\n",
    "\n",
    "main()"
   ]
  },
  {
   "cell_type": "code",
   "execution_count": null,
   "metadata": {},
   "outputs": [],
   "source": []
  }
 ],
 "metadata": {
  "kernelspec": {
   "display_name": "Python 3",
   "language": "python",
   "name": "python3"
  },
  "language_info": {
   "codemirror_mode": {
    "name": "ipython",
    "version": 3
   },
   "file_extension": ".py",
   "mimetype": "text/x-python",
   "name": "python",
   "nbconvert_exporter": "python",
   "pygments_lexer": "ipython3",
   "version": "3.7.1"
  }
 },
 "nbformat": 4,
 "nbformat_minor": 2
}
