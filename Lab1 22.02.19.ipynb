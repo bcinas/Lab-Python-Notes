{
 "cells": [
  {
   "cell_type": "code",
   "execution_count": 1,
   "metadata": {},
   "outputs": [
    {
     "name": "stdout",
     "output_type": "stream",
     "text": [
      "Enter the number of work hours: 5\n",
      "Enter the payment rate per hour: 10\n",
      "Your payment is €50.00\n"
     ]
    }
   ],
   "source": [
    "# This program calculates and displays mounthly payment.\n",
    "# This is version 1.0.\n",
    "\n",
    "hours = int(input(\"Enter the number of work hours: \"))\n",
    "pay_rate = float(input(\"Enter the payment rate per hour: \"))\n",
    "\n",
    "payment = hours*pay_rate\n",
    "\n",
    "print(\"Your payment is €\", format(payment,\".2f\"), sep=\"\")\n"
   ]
  },
  {
   "cell_type": "code",
   "execution_count": 2,
   "metadata": {},
   "outputs": [
    {
     "name": "stdout",
     "output_type": "stream",
     "text": [
      "10532.688\n",
      "10532.69\n",
      "10,532.69\n"
     ]
    }
   ],
   "source": [
    "# Formating version 2.0.\n",
    "\n",
    "num = 10532.688\n",
    "\n",
    "print(num)                 # Display with default format.\n",
    "print(format(num,\".2f\"))   # Display with format  type 1\n",
    "print(format(num, \",.2f\")) # Display with format type 2."
   ]
  },
  {
   "cell_type": "code",
   "execution_count": 3,
   "metadata": {},
   "outputs": [
    {
     "name": "stdout",
     "output_type": "stream",
     "text": [
      "Enter the number of student: 10\n",
      "Enter number of passed students: 5\n",
      "50%\n"
     ]
    }
   ],
   "source": [
    "# Formating version 3.0.\n",
    "\n",
    "total = int(input(\"Enter the number of student: \"))\n",
    "pass_num = int(input(\"Enter number of passed students: \"))\n",
    "\n",
    "print(format(pass_num/total, \".0%\"))"
   ]
  },
  {
   "cell_type": "code",
   "execution_count": 4,
   "metadata": {},
   "outputs": [
    {
     "name": "stdout",
     "output_type": "stream",
     "text": [
      "1.2346e+08\n"
     ]
    }
   ],
   "source": [
    "# Formating version 4.0.\n",
    "\n",
    "num = 123456789\n",
    "\n",
    "print(format(num, \".4e\")) # Scientific type 1"
   ]
  },
  {
   "cell_type": "code",
   "execution_count": 5,
   "metadata": {},
   "outputs": [
    {
     "name": "stdout",
     "output_type": "stream",
     "text": [
      " 123,456,789.57\n",
      "       2,233.88\n",
      "         198.66\n"
     ]
    }
   ],
   "source": [
    "num1 = 123456789.5678\n",
    "num2 = 2233.8758\n",
    "num3 = 198.66\n",
    "\n",
    "print(format(num1, \"15,.2f\"))\n",
    "print(format(num2, \"15,.2f\"))\n",
    "print(format(num3, \"15,.2f\"))"
   ]
  },
  {
   "cell_type": "code",
   "execution_count": 10,
   "metadata": {},
   "outputs": [
    {
     "name": "stdout",
     "output_type": "stream",
     "text": [
      "Ata Demir-Department of Software Engineering-Technology Faculty-Firat University\n"
     ]
    }
   ],
   "source": [
    "print(\"Ata Demir\",  \\\n",
    "      \"Department of Software Engineering\",\\\n",
    "      \"Technology Faculty\", \\\n",
    "      \"Firat University\", sep=\"-\")"
   ]
  },
  {
   "cell_type": "markdown",
   "metadata": {},
   "source": [
    "Upper code will work in offical IDLE."
   ]
  },
  {
   "cell_type": "code",
   "execution_count": null,
   "metadata": {},
   "outputs": [],
   "source": []
  }
 ],
 "metadata": {
  "kernelspec": {
   "display_name": "Python 3",
   "language": "python",
   "name": "python3"
  },
  "language_info": {
   "codemirror_mode": {
    "name": "ipython",
    "version": 3
   },
   "file_extension": ".py",
   "mimetype": "text/x-python",
   "name": "python",
   "nbconvert_exporter": "python",
   "pygments_lexer": "ipython3",
   "version": "3.7.1"
  }
 },
 "nbformat": 4,
 "nbformat_minor": 2
}
