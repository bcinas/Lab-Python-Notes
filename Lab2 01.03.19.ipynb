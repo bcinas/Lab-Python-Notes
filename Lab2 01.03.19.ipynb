{
 "cells": [
  {
   "cell_type": "code",
   "execution_count": 1,
   "metadata": {},
   "outputs": [
    {
     "name": "stdout",
     "output_type": "stream",
     "text": [
      "The summation of even numbers between 0 and 20 is 110.0\n"
     ]
    }
   ],
   "source": [
    "# This program calculates the summation of \n",
    "# even numbers between 0 and 20.\n",
    "\n",
    "sum = 0.0\n",
    "\n",
    "for num in range(21):\n",
    "    if num % 2 == 0:\n",
    "        sum += num\n",
    "print(\"The summation of even numbers \" \\\n",
    "     \"between 0 and 20 is\", sum)"
   ]
  },
  {
   "cell_type": "code",
   "execution_count": 2,
   "metadata": {},
   "outputs": [
    {
     "name": "stdout",
     "output_type": "stream",
     "text": [
      "1 \t 1\n",
      "2 \t 4\n",
      "3 \t 9\n",
      "4 \t 16\n",
      "5 \t 25\n",
      "6 \t 36\n",
      "7 \t 49\n",
      "8 \t 64\n",
      "9 \t 81\n",
      "10 \t 100\n"
     ]
    }
   ],
   "source": [
    "# This program will display the numbers\n",
    "# from 1 to 10 with their squares.\n",
    "\n",
    "for num in range(1,11):\n",
    "    print(num, \"\\t\", num **2)"
   ]
  },
  {
   "cell_type": "code",
   "execution_count": 1,
   "metadata": {},
   "outputs": [
    {
     "name": "stdout",
     "output_type": "stream",
     "text": [
      "Enter an integer number to check: 11\n",
      "11 is prime.\n"
     ]
    }
   ],
   "source": [
    "# This program finds if entered \n",
    "# number is prime or not.\n",
    "import math\n",
    "\n",
    "num = int(input(\"Enter an integer number to check: \"))\n",
    "x = int(math.sqrt(num))\n",
    "flag = False\n",
    "\n",
    "for n in range(3,x):\n",
    "    if x % n == 0:\n",
    "        flag = True\n",
    "        \n",
    "if flag:\n",
    "    print(num,\"is not prime.\")\n",
    "else:\n",
    "    print(num,\"is prime.\")"
   ]
  },
  {
   "cell_type": "code",
   "execution_count": 13,
   "metadata": {
    "scrolled": true
   },
   "outputs": [
    {
     "name": "stdout",
     "output_type": "stream",
     "text": [
      "*\n",
      "**\n",
      "***\n",
      "****\n"
     ]
    }
   ],
   "source": [
    "for i in range(4):\n",
    "    for j in range(i+1):\n",
    "        print(\"*\", end =\"\")\n",
    "    print()"
   ]
  },
  {
   "cell_type": "code",
   "execution_count": null,
   "metadata": {},
   "outputs": [],
   "source": []
  }
 ],
 "metadata": {
  "kernelspec": {
   "display_name": "Python 3",
   "language": "python",
   "name": "python3"
  },
  "language_info": {
   "codemirror_mode": {
    "name": "ipython",
    "version": 3
   },
   "file_extension": ".py",
   "mimetype": "text/x-python",
   "name": "python",
   "nbconvert_exporter": "python",
   "pygments_lexer": "ipython3",
   "version": "3.7.1"
  }
 },
 "nbformat": 4,
 "nbformat_minor": 2
}
